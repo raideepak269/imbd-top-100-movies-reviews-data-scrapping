{
 "cells": [
  {
   "cell_type": "code",
   "execution_count": 1,
   "id": "49fd9456",
   "metadata": {},
   "outputs": [],
   "source": [
    "import requests\n",
    "import pandas as pd\n",
    "import numpy as np\n",
    "from bs4 import BeautifulSoup"
   ]
  },
  {
   "cell_type": "code",
   "execution_count": 2,
   "id": "5296d47e",
   "metadata": {},
   "outputs": [
    {
     "name": "stdout",
     "output_type": "stream",
     "text": [
      "<Response [200]>\n"
     ]
    }
   ],
   "source": [
    "url=\"https://www.imdb.com/search/title/?count=100&groups=top_1000&sort=user_rating\"\n",
    "response=requests.get(url)\n",
    "print(response)"
   ]
  },
  {
   "cell_type": "code",
   "execution_count": 3,
   "id": "30e8596e",
   "metadata": {},
   "outputs": [],
   "source": [
    "imbd=BeautifulSoup(response.content,\"html.parser\")"
   ]
  },
  {
   "cell_type": "code",
   "execution_count": 4,
   "id": "7e1d14fe",
   "metadata": {},
   "outputs": [],
   "source": [
    "#imbd"
   ]
  },
  {
   "cell_type": "code",
   "execution_count": 5,
   "id": "bfb662a1",
   "metadata": {},
   "outputs": [],
   "source": [
    "movie_name=[]\n",
    "year=[]\n",
    "time=[]\n",
    "rating=[]\n",
    "metascore=[]\n",
    "votes=[]\n",
    "gross =[]\n",
    "\n"
   ]
  },
  {
   "cell_type": "code",
   "execution_count": 6,
   "id": "a027b1e5",
   "metadata": {},
   "outputs": [],
   "source": [
    "movie_data=imbd.find_all(\"div\",attrs={'class':\"lister-item-content\"})"
   ]
  },
  {
   "cell_type": "code",
   "execution_count": 7,
   "id": "c1870929",
   "metadata": {
    "scrolled": true
   },
   "outputs": [],
   "source": [
    "for store in movie_data:\n",
    "    name=store.h3.a.text\n",
    "    movie_name.append(name)\n",
    "    year_release=store.h3.find('span',attrs={'class':\"lister-item-year text-muted unbold\"}).text\n",
    "    year.append(year_release)\n",
    "    runtime=store.p.find('span',attrs={'class':\"runtime\"}).text\n",
    "    time.append(runtime)\n",
    "    rate=store.find('div',attrs={'class':\"inline-block ratings-imdb-rating\"}).text.replace('\\n','')\n",
    "    rating.append(rate)\n",
    "    meta=store.find('span',attrs={'class':\"metascore\"}).text.replace('        ','') if store.find('span',attrs={'class':\"metascore\"}) else '$'\n",
    "    metascore.append(meta)\n",
    "    value=store.find_all('span',attrs={'name':\"nv\"})\n",
    "    vote=value[0].text\n",
    "    votes.append(vote)\n",
    "    gros=value[1].text if len(value)>1 else '$$'\n",
    "    gross.append(gros)"
   ]
  },
  {
   "cell_type": "code",
   "execution_count": null,
   "id": "c4eb1607",
   "metadata": {},
   "outputs": [],
   "source": []
  },
  {
   "cell_type": "code",
   "execution_count": 9,
   "id": "bb054712",
   "metadata": {},
   "outputs": [
    {
     "data": {
      "text/plain": [
       "100"
      ]
     },
     "execution_count": 9,
     "metadata": {},
     "output_type": "execute_result"
    }
   ],
   "source": [
    "np.count_nonzero(rating) #total no. of records."
   ]
  },
  {
   "cell_type": "code",
   "execution_count": 10,
   "id": "01cbeaeb",
   "metadata": {},
   "outputs": [],
   "source": [
    "movie_df=pd.DataFrame({'Name_of_movie':movie_name,'Rleasing_year':year,'Watching_time':time,'Ratings':rating,'Metascore':metascore,'total_vote':votes,'total_gross':gross})"
   ]
  },
  {
   "cell_type": "code",
   "execution_count": 11,
   "id": "162cbe76",
   "metadata": {},
   "outputs": [
    {
     "data": {
      "text/html": [
       "<div>\n",
       "<style scoped>\n",
       "    .dataframe tbody tr th:only-of-type {\n",
       "        vertical-align: middle;\n",
       "    }\n",
       "\n",
       "    .dataframe tbody tr th {\n",
       "        vertical-align: top;\n",
       "    }\n",
       "\n",
       "    .dataframe thead th {\n",
       "        text-align: right;\n",
       "    }\n",
       "</style>\n",
       "<table border=\"1\" class=\"dataframe\">\n",
       "  <thead>\n",
       "    <tr style=\"text-align: right;\">\n",
       "      <th></th>\n",
       "      <th>Name_of_movie</th>\n",
       "      <th>Rleasing_year</th>\n",
       "      <th>Watching_time</th>\n",
       "      <th>Ratings</th>\n",
       "      <th>Metascore</th>\n",
       "      <th>total_vote</th>\n",
       "      <th>total_gross</th>\n",
       "    </tr>\n",
       "  </thead>\n",
       "  <tbody>\n",
       "    <tr>\n",
       "      <th>0</th>\n",
       "      <td>The Shawshank Redemption</td>\n",
       "      <td>(1994)</td>\n",
       "      <td>142 min</td>\n",
       "      <td>9.3</td>\n",
       "      <td>82</td>\n",
       "      <td>2,789,761</td>\n",
       "      <td>$28.34M</td>\n",
       "    </tr>\n",
       "    <tr>\n",
       "      <th>1</th>\n",
       "      <td>The Godfather</td>\n",
       "      <td>(1972)</td>\n",
       "      <td>175 min</td>\n",
       "      <td>9.2</td>\n",
       "      <td>100</td>\n",
       "      <td>1,942,949</td>\n",
       "      <td>$134.97M</td>\n",
       "    </tr>\n",
       "    <tr>\n",
       "      <th>2</th>\n",
       "      <td>The Dark Knight</td>\n",
       "      <td>(2008)</td>\n",
       "      <td>152 min</td>\n",
       "      <td>9.0</td>\n",
       "      <td>84</td>\n",
       "      <td>2,769,725</td>\n",
       "      <td>$534.86M</td>\n",
       "    </tr>\n",
       "    <tr>\n",
       "      <th>3</th>\n",
       "      <td>Schindler's List</td>\n",
       "      <td>(1993)</td>\n",
       "      <td>195 min</td>\n",
       "      <td>9.0</td>\n",
       "      <td>95</td>\n",
       "      <td>1,403,132</td>\n",
       "      <td>$96.90M</td>\n",
       "    </tr>\n",
       "    <tr>\n",
       "      <th>4</th>\n",
       "      <td>The Godfather Part II</td>\n",
       "      <td>(1974)</td>\n",
       "      <td>202 min</td>\n",
       "      <td>9.0</td>\n",
       "      <td>90</td>\n",
       "      <td>1,320,113</td>\n",
       "      <td>$57.30M</td>\n",
       "    </tr>\n",
       "    <tr>\n",
       "      <th>...</th>\n",
       "      <td>...</td>\n",
       "      <td>...</td>\n",
       "      <td>...</td>\n",
       "      <td>...</td>\n",
       "      <td>...</td>\n",
       "      <td>...</td>\n",
       "      <td>...</td>\n",
       "    </tr>\n",
       "    <tr>\n",
       "      <th>95</th>\n",
       "      <td>American Beauty</td>\n",
       "      <td>(1999)</td>\n",
       "      <td>122 min</td>\n",
       "      <td>8.3</td>\n",
       "      <td>84</td>\n",
       "      <td>1,183,401</td>\n",
       "      <td>$130.10M</td>\n",
       "    </tr>\n",
       "    <tr>\n",
       "      <th>96</th>\n",
       "      <td>Good Will Hunting</td>\n",
       "      <td>(1997)</td>\n",
       "      <td>126 min</td>\n",
       "      <td>8.3</td>\n",
       "      <td>70</td>\n",
       "      <td>1,019,318</td>\n",
       "      <td>$138.43M</td>\n",
       "    </tr>\n",
       "    <tr>\n",
       "      <th>97</th>\n",
       "      <td>2001: A Space Odyssey</td>\n",
       "      <td>(1968)</td>\n",
       "      <td>149 min</td>\n",
       "      <td>8.3</td>\n",
       "      <td>84</td>\n",
       "      <td>695,480</td>\n",
       "      <td>$56.95M</td>\n",
       "    </tr>\n",
       "    <tr>\n",
       "      <th>98</th>\n",
       "      <td>Braveheart</td>\n",
       "      <td>(1995)</td>\n",
       "      <td>178 min</td>\n",
       "      <td>8.3</td>\n",
       "      <td>68</td>\n",
       "      <td>1,065,831</td>\n",
       "      <td>$75.60M</td>\n",
       "    </tr>\n",
       "    <tr>\n",
       "      <th>99</th>\n",
       "      <td>Full Metal Jacket</td>\n",
       "      <td>(1987)</td>\n",
       "      <td>116 min</td>\n",
       "      <td>8.3</td>\n",
       "      <td>78</td>\n",
       "      <td>767,962</td>\n",
       "      <td>$46.36M</td>\n",
       "    </tr>\n",
       "  </tbody>\n",
       "</table>\n",
       "<p>100 rows × 7 columns</p>\n",
       "</div>"
      ],
      "text/plain": [
       "               Name_of_movie Rleasing_year Watching_time Ratings Metascore  \\\n",
       "0   The Shawshank Redemption        (1994)       142 min     9.3        82   \n",
       "1              The Godfather        (1972)       175 min     9.2       100   \n",
       "2            The Dark Knight        (2008)       152 min     9.0        84   \n",
       "3           Schindler's List        (1993)       195 min     9.0        95   \n",
       "4      The Godfather Part II        (1974)       202 min     9.0        90   \n",
       "..                       ...           ...           ...     ...       ...   \n",
       "95           American Beauty        (1999)       122 min     8.3        84   \n",
       "96         Good Will Hunting        (1997)       126 min     8.3        70   \n",
       "97     2001: A Space Odyssey        (1968)       149 min     8.3        84   \n",
       "98                Braveheart        (1995)       178 min     8.3        68   \n",
       "99         Full Metal Jacket        (1987)       116 min     8.3        78   \n",
       "\n",
       "   total_vote total_gross  \n",
       "0   2,789,761     $28.34M  \n",
       "1   1,942,949    $134.97M  \n",
       "2   2,769,725    $534.86M  \n",
       "3   1,403,132     $96.90M  \n",
       "4   1,320,113     $57.30M  \n",
       "..        ...         ...  \n",
       "95  1,183,401    $130.10M  \n",
       "96  1,019,318    $138.43M  \n",
       "97    695,480     $56.95M  \n",
       "98  1,065,831     $75.60M  \n",
       "99    767,962     $46.36M  \n",
       "\n",
       "[100 rows x 7 columns]"
      ]
     },
     "execution_count": 11,
     "metadata": {},
     "output_type": "execute_result"
    }
   ],
   "source": [
    "movie_df"
   ]
  },
  {
   "cell_type": "code",
   "execution_count": 13,
   "id": "08e7d311",
   "metadata": {},
   "outputs": [],
   "source": [
    "movie_df.to_csv('imbd.csv')"
   ]
  },
  {
   "cell_type": "code",
   "execution_count": null,
   "id": "6df800f4",
   "metadata": {},
   "outputs": [],
   "source": []
  }
 ],
 "metadata": {
  "kernelspec": {
   "display_name": "Python 3 (ipykernel)",
   "language": "python",
   "name": "python3"
  },
  "language_info": {
   "codemirror_mode": {
    "name": "ipython",
    "version": 3
   },
   "file_extension": ".py",
   "mimetype": "text/x-python",
   "name": "python",
   "nbconvert_exporter": "python",
   "pygments_lexer": "ipython3",
   "version": "3.11.3"
  }
 },
 "nbformat": 4,
 "nbformat_minor": 5
}
